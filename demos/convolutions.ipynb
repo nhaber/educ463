{
  "cells": [
    {
      "cell_type": "code",
      "execution_count": null,
      "metadata": {
        "id": "ZiK7cRvwb_rW"
      },
      "outputs": [],
      "source": [
        "from google.colab import files\n",
        "import PIL\n",
        "import numpy as np\n",
        "from io import BytesIO\n",
        "from scipy.signal import convolve2d"
      ]
    },
    {
      "cell_type": "code",
      "execution_count": null,
      "metadata": {
        "id": "EusCUaLsQICK"
      },
      "outputs": [],
      "source": [
        "#helper function that creates gaussian blur filters\n",
        "\n",
        "def make_gaussian_blur(width_of_kernel, std_dev = 1.):\n",
        "  '''\n",
        "  Input: width of kernel (e.g. 3, 5, 7), std deviation of the kernel (bigger means more blurry)\n",
        "  '''\n",
        "  #make sure odd\n",
        "  assert type(width_of_kernel) == int and width_of_kernel % 2 == 1\n",
        "  unnormalized_ = np.array(\n",
        "      [[np.exp(- ((x_ - width_of_kernel // 2)**2\\\n",
        "                  + (y_ - width_of_kernel // 2)**2)/(2. * std_dev))\n",
        "       for x_ in range(width_of_kernel)]\n",
        "       for y_ in range(width_of_kernel)])\n",
        "  return unnormalized_ / np.sum(unnormalized_)"
      ]
    },
    {
      "cell_type": "code",
      "execution_count": null,
      "metadata": {
        "id": "KinmtNZzcKGs"
      },
      "outputs": [],
      "source": [
        "# allows you to upload images. you should br prompted to choose files, right below.\n",
        "# this can also be accomplished by the GUI on the left.\n",
        "uploaded = files.upload()"
      ]
    },
    {
      "cell_type": "code",
      "execution_count": null,
      "metadata": {
        "id": "FB-RGkTgcMya"
      },
      "outputs": [],
      "source": [
        "# TODO provide the name of the file\n",
        "# (can upload multiple images above...this just specifies one)\n",
        "\n",
        "my_image_name = 'my_image.jpeg' #TODO provide name here!\n",
        "\n",
        "#creates a PIL image\n",
        "my_im = PIL.Image.open(BytesIO(uploaded[my_image_name]))\n",
        "#converts to black and white\n",
        "my_im = my_im.convert('L')\n",
        "#converts to a numpy array\n",
        "im_array = np.asarray(my_im, dtype = 'float')"
      ]
    },
    {
      "cell_type": "code",
      "execution_count": null,
      "metadata": {
        "id": "uDym9XxrdUgv"
      },
      "outputs": [],
      "source": [
        "#displays black and white image\n",
        "my_im"
      ]
    },
    {
      "cell_type": "code",
      "execution_count": null,
      "metadata": {
        "id": "7Fd1DaW8dyOp"
      },
      "outputs": [],
      "source": [
        "\n",
        "#identity\n",
        "identity_kernel = np.array(\n",
        "    [[0, 0, 0],\n",
        "     [0, 1, 0],\n",
        "     [0, 0, 0]]\n",
        ")\n",
        "\n",
        "#should make image pretty blurry\n",
        "blur_kernel = make_gaussian_blur(13, std_dev = 7.)\n",
        "\n",
        "#some other kernels to try\n",
        "sharpening_kernel = np.array(\n",
        "    [[0, -1, 0],\n",
        "     [-1, 5, -1],\n",
        "     [0, -1, 0]]\n",
        ")\n",
        "\n",
        "emboss_kernel = np.array([\n",
        "                          [-2, -1, 0],\n",
        "                          [-1, 1, 1],\n",
        "                          [0, 1, 2]\n",
        "])\n",
        "\n",
        "outline_kernel = np.array([\n",
        "                           [-1, -1, -1],\n",
        "                           [-1, 8, -1],\n",
        "                           [-1, -1, -1]\n",
        "\n",
        "])\n",
        "\n",
        "#performs the convolution\n",
        "convolved = convolve2d(im_array, emboss_kernel)"
      ]
    },
    {
      "cell_type": "code",
      "execution_count": null,
      "metadata": {
        "id": "7BEn5s97f0fY"
      },
      "outputs": [],
      "source": [
        "# clipping the pixel values to be between 0 and 255 \n",
        "# (otherwise, things wrap around...when converting back to an image, \n",
        "# it looks quite funny)\n",
        "PIL.Image.fromarray(np.clip(convolved, a_min = 0, a_max = 255).astype('uint8'))"
      ]
    },
    {
      "cell_type": "markdown",
      "source": [
        "Some notes on color images & additional channels: note that, as in the demo in class, we made the image black and white here. You can, of course, convolve color images! But in general, one has to specify a great deal more. If, for instance, one would like to obtain a color image from the color image, one needs to specify how each of the three channels get mapped onto each of the new channels.\n",
        "\n",
        "This is naturally described in terms of some linear algebra. A color image is like a black-and-white image, except each pixel is specified by a 3-dimensional vector instead of a scalar. When applying a convolution in order to obtain another color image, then, one specifies, instead of a 3x3 grid of scalars, a 3x3 grid of linear transformations from 3-space to 3-space. That's a lot more to specify -- if the kernel is 3 x 3, that's 3 x 3 x 3 x 3 degrees of freedom! Hence the choice to do this in black-and-white.\n",
        "\n",
        "For convolutional neural networks, one isn't restricted in mapping color images to color images at each layer. In general, an arbitrary number of channels can be used. So convolutions, in general, are specified by grids of linear transformations from the input channel size to the output channel size. In many cases, the channel size grows in successive layers."
      ],
      "metadata": {
        "id": "BYAc9wveWvyt"
      }
    }
  ],
  "metadata": {
    "colab": {
      "name": "convolution_demo.ipynb",
      "provenance": [],
      "collapsed_sections": []
    },
    "kernelspec": {
      "display_name": "Python 3",
      "name": "python3"
    },
    "language_info": {
      "name": "python"
    }
  },
  "nbformat": 4,
  "nbformat_minor": 0
}